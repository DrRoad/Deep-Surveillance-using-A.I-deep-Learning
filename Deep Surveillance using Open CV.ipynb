{
 "cells": [
  {
   "cell_type": "code",
   "execution_count": 2,
   "metadata": {},
   "outputs": [],
   "source": [
    "#import the required libraries\n",
    "from keras.models import load_model\n",
    "from keras.preprocessing.image import img_to_array\n",
    "import cv2\n",
    "import numpy as np\n",
    "import urllib\n",
    "import tensorflow as tf \n",
    "import webbrowser\n",
    "face_classifier = cv2.CascadeClassifier('C:/Users/MOHIT CHVK/Desktop/new trash/FE/haarcascade_frontalface_default.xml')\n",
    "classifier =tf.keras.models.load_model('C:/Users/MOHIT CHVK/Desktop/new trash/FE/hi.h5')"
   ]
  },
  {
   "cell_type": "code",
   "execution_count": 3,
   "metadata": {},
   "outputs": [
    {
     "name": "stdout",
     "output_type": "stream",
     "text": [
      "Warning..!!! HE SEEMS Suspicious\n",
      "Do You Want to call Cops or Personal security ?\n",
      "The captured image of the suspect is stored to data-base folder on desktop\n"
     ]
    }
   ],
   "source": [
    "#different class labels that the model is trained on\n",
    "class_labels = [\"suspicious\",\"disgust\",\"suspicious\",\"happy\",\"neutral\",\"sad\",\"surprise\"]\n",
    "\n",
    "cap=cv2.VideoCapture(0)\n",
    "fourcc = cv2.VideoWriter_fourcc(*'XVID') \n",
    "out = cv2.VideoWriter('C:/Users/MOHIT CHVK/Desktop/new trash/FE/output1.avi', fourcc, 30.0, (640, 480)) \n",
    "t=0\n",
    "while True:\n",
    "    # Grab a single frame of video\n",
    "    ret,frame=cap.read()            \n",
    "    labels = []\n",
    "    gray = cv2.cvtColor(frame,cv2.COLOR_BGR2GRAY)\n",
    "    faces = face_classifier.detectMultiScale(gray,1.3,5)\n",
    "\n",
    "    for (x,y,w,h) in faces:\n",
    "        cv2.rectangle(frame,(x,y),(x+w,y+h),(255,0,0),2)\n",
    "        roi_gray = gray[y:y+h,x:x+w]\n",
    "        roi_gray = cv2.resize(roi_gray,(72,72),interpolation=cv2.INTER_AREA)\n",
    "    # rect,face,image = face_detector(frame)\n",
    "        if np.sum([roi_gray])!=0:\n",
    "            roi = roi_gray.astype('float')/255.0\n",
    "            roi = img_to_array(roi)\n",
    "            roi = np.expand_dims(roi,axis=0)\n",
    "\n",
    "        # make a prediction on the ROI, then lookup the class\n",
    "            preds = classifier.predict(roi)[0]\n",
    "            label=class_labels[preds.argmax()]\n",
    "            label_position = (x,y)\n",
    "            \n",
    "            if label==\"suspicious\":\n",
    "                t=t+1\n",
    "                cv2.putText(frame,label,label_position,cv2.FONT_HERSHEY_SIMPLEX,2,(0,0,255),3)\n",
    "            else:\n",
    "                cv2.putText(frame,label,label_position,cv2.FONT_HERSHEY_SIMPLEX,2,(0,255,0),3)\n",
    "        else:\n",
    "            cv2.putText(frame,'No Face Found',(20,60),cv2.FONT_HERSHEY_SIMPLEX,2,(0,255,0),3)\n",
    "    cv2.imshow('Emotion Detector',frame)\n",
    "    if t==70:\n",
    "        break\n",
    "    if t==30:\n",
    "        cv2.imwrite('C:/Users/MOHIT CHVK/Desktop/DATA-BASE/suspected.jpg',frame)\n",
    "    \n",
    "    if cv2.waitKey(1) & 0xFF == ord('q'):\n",
    "        break\n",
    "cap.release()\n",
    "cv2.destroyAllWindows()\n",
    "if t==70:\n",
    "    webbrowser.open('file:///C:/Users/MOHIT%20CHVK/Desktop/Warning%20Message.html')    # invoking a html page to show the message\n",
    "    print(\"Warning..!!! HE SEEMS Suspicious\")\n",
    "    print(\"Do You Want to call Cops or Personal security ?\")\n",
    "    print(\"The captured image of the suspect is stored to data-base folder on desktop\")"
   ]
  }
 ],
 "metadata": {
  "kernelspec": {
   "display_name": "Python 3",
   "language": "python",
   "name": "python3"
  },
  "language_info": {
   "codemirror_mode": {
    "name": "ipython",
    "version": 3
   },
   "file_extension": ".py",
   "mimetype": "text/x-python",
   "name": "python",
   "nbconvert_exporter": "python",
   "pygments_lexer": "ipython3",
   "version": "3.6.10"
  }
 },
 "nbformat": 4,
 "nbformat_minor": 4
}
